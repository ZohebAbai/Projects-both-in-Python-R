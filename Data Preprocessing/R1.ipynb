{
 "cells": [
  {
   "cell_type": "code",
   "execution_count": 1,
   "metadata": {},
   "outputs": [],
   "source": [
    "df = read.csv('Data.csv')"
   ]
  },
  {
   "cell_type": "code",
   "execution_count": 2,
   "metadata": {},
   "outputs": [],
   "source": [
    "df$Age = ifelse(is.na(df$Age),\n",
    "                ave(df$Age, FUN = function(x) mean(x, na.rm = TRUE)),\n",
    "                df$Age)"
   ]
  },
  {
   "cell_type": "code",
   "execution_count": 3,
   "metadata": {},
   "outputs": [],
   "source": [
    "df$Salary = ifelse(is.na(df$Salary),\n",
    "                ave(df$Salary, FUN = function(x) mean(x, na.rm = TRUE)),\n",
    "                df$Salary)"
   ]
  },
  {
   "cell_type": "code",
   "execution_count": 4,
   "metadata": {},
   "outputs": [
    {
     "data": {
      "text/html": [
       "<table>\n",
       "<thead><tr><th scope=col>Country</th><th scope=col>Age</th><th scope=col>Salary</th><th scope=col>Purchased</th></tr></thead>\n",
       "<tbody>\n",
       "\t<tr><td>France  </td><td>44.00000</td><td>72000.00</td><td>No      </td></tr>\n",
       "\t<tr><td>Spain   </td><td>27.00000</td><td>48000.00</td><td>Yes     </td></tr>\n",
       "\t<tr><td>Germany </td><td>30.00000</td><td>54000.00</td><td>No      </td></tr>\n",
       "\t<tr><td>Spain   </td><td>38.00000</td><td>61000.00</td><td>No      </td></tr>\n",
       "\t<tr><td>Germany </td><td>40.00000</td><td>63777.78</td><td>Yes     </td></tr>\n",
       "\t<tr><td>France  </td><td>35.00000</td><td>58000.00</td><td>Yes     </td></tr>\n",
       "\t<tr><td>Spain   </td><td>38.77778</td><td>52000.00</td><td>No      </td></tr>\n",
       "\t<tr><td>France  </td><td>48.00000</td><td>79000.00</td><td>Yes     </td></tr>\n",
       "\t<tr><td>Germany </td><td>50.00000</td><td>83000.00</td><td>No      </td></tr>\n",
       "\t<tr><td>France  </td><td>37.00000</td><td>67000.00</td><td>Yes     </td></tr>\n",
       "</tbody>\n",
       "</table>\n"
      ],
      "text/latex": [
       "\\begin{tabular}{r|llll}\n",
       " Country & Age & Salary & Purchased\\\\\n",
       "\\hline\n",
       "\t France   & 44.00000 & 72000.00 & No      \\\\\n",
       "\t Spain    & 27.00000 & 48000.00 & Yes     \\\\\n",
       "\t Germany  & 30.00000 & 54000.00 & No      \\\\\n",
       "\t Spain    & 38.00000 & 61000.00 & No      \\\\\n",
       "\t Germany  & 40.00000 & 63777.78 & Yes     \\\\\n",
       "\t France   & 35.00000 & 58000.00 & Yes     \\\\\n",
       "\t Spain    & 38.77778 & 52000.00 & No      \\\\\n",
       "\t France   & 48.00000 & 79000.00 & Yes     \\\\\n",
       "\t Germany  & 50.00000 & 83000.00 & No      \\\\\n",
       "\t France   & 37.00000 & 67000.00 & Yes     \\\\\n",
       "\\end{tabular}\n"
      ],
      "text/markdown": [
       "\n",
       "Country | Age | Salary | Purchased | \n",
       "|---|---|---|---|---|---|---|---|---|---|\n",
       "| France   | 44.00000 | 72000.00 | No       | \n",
       "| Spain    | 27.00000 | 48000.00 | Yes      | \n",
       "| Germany  | 30.00000 | 54000.00 | No       | \n",
       "| Spain    | 38.00000 | 61000.00 | No       | \n",
       "| Germany  | 40.00000 | 63777.78 | Yes      | \n",
       "| France   | 35.00000 | 58000.00 | Yes      | \n",
       "| Spain    | 38.77778 | 52000.00 | No       | \n",
       "| France   | 48.00000 | 79000.00 | Yes      | \n",
       "| Germany  | 50.00000 | 83000.00 | No       | \n",
       "| France   | 37.00000 | 67000.00 | Yes      | \n",
       "\n",
       "\n"
      ],
      "text/plain": [
       "   Country Age      Salary   Purchased\n",
       "1  France  44.00000 72000.00 No       \n",
       "2  Spain   27.00000 48000.00 Yes      \n",
       "3  Germany 30.00000 54000.00 No       \n",
       "4  Spain   38.00000 61000.00 No       \n",
       "5  Germany 40.00000 63777.78 Yes      \n",
       "6  France  35.00000 58000.00 Yes      \n",
       "7  Spain   38.77778 52000.00 No       \n",
       "8  France  48.00000 79000.00 Yes      \n",
       "9  Germany 50.00000 83000.00 No       \n",
       "10 France  37.00000 67000.00 Yes      "
      ]
     },
     "metadata": {},
     "output_type": "display_data"
    }
   ],
   "source": [
    "df"
   ]
  },
  {
   "cell_type": "code",
   "execution_count": 5,
   "metadata": {},
   "outputs": [],
   "source": [
    "#Let's encode the categorical column into factors\n",
    "df$Country = factor(df$Country,\n",
    "                    levels= c('France','Spain','Germany'),\n",
    "                    labels= c(1,2,3))"
   ]
  },
  {
   "cell_type": "code",
   "execution_count": 6,
   "metadata": {},
   "outputs": [],
   "source": [
    "df$Purchased = factor(df$Purchased,\n",
    "                    levels= c('No','Yes'),\n",
    "                    labels= c(0,1))"
   ]
  },
  {
   "cell_type": "code",
   "execution_count": 7,
   "metadata": {},
   "outputs": [
    {
     "data": {
      "text/html": [
       "<table>\n",
       "<thead><tr><th scope=col>Country</th><th scope=col>Age</th><th scope=col>Salary</th><th scope=col>Purchased</th></tr></thead>\n",
       "<tbody>\n",
       "\t<tr><td>1       </td><td>44.00000</td><td>72000.00</td><td>0       </td></tr>\n",
       "\t<tr><td>2       </td><td>27.00000</td><td>48000.00</td><td>1       </td></tr>\n",
       "\t<tr><td>3       </td><td>30.00000</td><td>54000.00</td><td>0       </td></tr>\n",
       "\t<tr><td>2       </td><td>38.00000</td><td>61000.00</td><td>0       </td></tr>\n",
       "\t<tr><td>3       </td><td>40.00000</td><td>63777.78</td><td>1       </td></tr>\n",
       "\t<tr><td>1       </td><td>35.00000</td><td>58000.00</td><td>1       </td></tr>\n",
       "\t<tr><td>2       </td><td>38.77778</td><td>52000.00</td><td>0       </td></tr>\n",
       "\t<tr><td>1       </td><td>48.00000</td><td>79000.00</td><td>1       </td></tr>\n",
       "\t<tr><td>3       </td><td>50.00000</td><td>83000.00</td><td>0       </td></tr>\n",
       "\t<tr><td>1       </td><td>37.00000</td><td>67000.00</td><td>1       </td></tr>\n",
       "</tbody>\n",
       "</table>\n"
      ],
      "text/latex": [
       "\\begin{tabular}{r|llll}\n",
       " Country & Age & Salary & Purchased\\\\\n",
       "\\hline\n",
       "\t 1        & 44.00000 & 72000.00 & 0       \\\\\n",
       "\t 2        & 27.00000 & 48000.00 & 1       \\\\\n",
       "\t 3        & 30.00000 & 54000.00 & 0       \\\\\n",
       "\t 2        & 38.00000 & 61000.00 & 0       \\\\\n",
       "\t 3        & 40.00000 & 63777.78 & 1       \\\\\n",
       "\t 1        & 35.00000 & 58000.00 & 1       \\\\\n",
       "\t 2        & 38.77778 & 52000.00 & 0       \\\\\n",
       "\t 1        & 48.00000 & 79000.00 & 1       \\\\\n",
       "\t 3        & 50.00000 & 83000.00 & 0       \\\\\n",
       "\t 1        & 37.00000 & 67000.00 & 1       \\\\\n",
       "\\end{tabular}\n"
      ],
      "text/markdown": [
       "\n",
       "Country | Age | Salary | Purchased | \n",
       "|---|---|---|---|---|---|---|---|---|---|\n",
       "| 1        | 44.00000 | 72000.00 | 0        | \n",
       "| 2        | 27.00000 | 48000.00 | 1        | \n",
       "| 3        | 30.00000 | 54000.00 | 0        | \n",
       "| 2        | 38.00000 | 61000.00 | 0        | \n",
       "| 3        | 40.00000 | 63777.78 | 1        | \n",
       "| 1        | 35.00000 | 58000.00 | 1        | \n",
       "| 2        | 38.77778 | 52000.00 | 0        | \n",
       "| 1        | 48.00000 | 79000.00 | 1        | \n",
       "| 3        | 50.00000 | 83000.00 | 0        | \n",
       "| 1        | 37.00000 | 67000.00 | 1        | \n",
       "\n",
       "\n"
      ],
      "text/plain": [
       "   Country Age      Salary   Purchased\n",
       "1  1       44.00000 72000.00 0        \n",
       "2  2       27.00000 48000.00 1        \n",
       "3  3       30.00000 54000.00 0        \n",
       "4  2       38.00000 61000.00 0        \n",
       "5  3       40.00000 63777.78 1        \n",
       "6  1       35.00000 58000.00 1        \n",
       "7  2       38.77778 52000.00 0        \n",
       "8  1       48.00000 79000.00 1        \n",
       "9  3       50.00000 83000.00 0        \n",
       "10 1       37.00000 67000.00 1        "
      ]
     },
     "metadata": {},
     "output_type": "display_data"
    }
   ],
   "source": [
    "df"
   ]
  },
  {
   "cell_type": "code",
   "execution_count": 8,
   "metadata": {},
   "outputs": [],
   "source": [
    "#Feature Scaling for numeric columns and not factor columns\n",
    "#Always Remember: In R index starts with 1 and last index is the last index\n",
    "df[,2:3]=scale(df[,2:3])"
   ]
  },
  {
   "cell_type": "code",
   "execution_count": 9,
   "metadata": {},
   "outputs": [
    {
     "data": {
      "text/html": [
       "<table>\n",
       "<thead><tr><th scope=col>Country</th><th scope=col>Age</th><th scope=col>Salary</th><th scope=col>Purchased</th></tr></thead>\n",
       "<tbody>\n",
       "\t<tr><td>1         </td><td> 0.7199314</td><td> 0.7110128</td><td>0         </td></tr>\n",
       "\t<tr><td>2         </td><td>-1.6236751</td><td>-1.3643758</td><td>1         </td></tr>\n",
       "\t<tr><td>3         </td><td>-1.2100975</td><td>-0.8455287</td><td>0         </td></tr>\n",
       "\t<tr><td>2         </td><td>-0.1072238</td><td>-0.2402070</td><td>0         </td></tr>\n",
       "\t<tr><td>3         </td><td> 0.1684946</td><td> 0.0000000</td><td>1         </td></tr>\n",
       "\t<tr><td>1         </td><td>-0.5208015</td><td>-0.4996306</td><td>1         </td></tr>\n",
       "\t<tr><td>2         </td><td> 0.0000000</td><td>-1.0184777</td><td>0         </td></tr>\n",
       "\t<tr><td>1         </td><td> 1.2713683</td><td> 1.3163344</td><td>1         </td></tr>\n",
       "\t<tr><td>3         </td><td> 1.5470867</td><td> 1.6622325</td><td>0         </td></tr>\n",
       "\t<tr><td>1         </td><td>-0.2450830</td><td> 0.2786401</td><td>1         </td></tr>\n",
       "</tbody>\n",
       "</table>\n"
      ],
      "text/latex": [
       "\\begin{tabular}{r|llll}\n",
       " Country & Age & Salary & Purchased\\\\\n",
       "\\hline\n",
       "\t 1          &  0.7199314 &  0.7110128 & 0         \\\\\n",
       "\t 2          & -1.6236751 & -1.3643758 & 1         \\\\\n",
       "\t 3          & -1.2100975 & -0.8455287 & 0         \\\\\n",
       "\t 2          & -0.1072238 & -0.2402070 & 0         \\\\\n",
       "\t 3          &  0.1684946 &  0.0000000 & 1         \\\\\n",
       "\t 1          & -0.5208015 & -0.4996306 & 1         \\\\\n",
       "\t 2          &  0.0000000 & -1.0184777 & 0         \\\\\n",
       "\t 1          &  1.2713683 &  1.3163344 & 1         \\\\\n",
       "\t 3          &  1.5470867 &  1.6622325 & 0         \\\\\n",
       "\t 1          & -0.2450830 &  0.2786401 & 1         \\\\\n",
       "\\end{tabular}\n"
      ],
      "text/markdown": [
       "\n",
       "Country | Age | Salary | Purchased | \n",
       "|---|---|---|---|---|---|---|---|---|---|\n",
       "| 1          |  0.7199314 |  0.7110128 | 0          | \n",
       "| 2          | -1.6236751 | -1.3643758 | 1          | \n",
       "| 3          | -1.2100975 | -0.8455287 | 0          | \n",
       "| 2          | -0.1072238 | -0.2402070 | 0          | \n",
       "| 3          |  0.1684946 |  0.0000000 | 1          | \n",
       "| 1          | -0.5208015 | -0.4996306 | 1          | \n",
       "| 2          |  0.0000000 | -1.0184777 | 0          | \n",
       "| 1          |  1.2713683 |  1.3163344 | 1          | \n",
       "| 3          |  1.5470867 |  1.6622325 | 0          | \n",
       "| 1          | -0.2450830 |  0.2786401 | 1          | \n",
       "\n",
       "\n"
      ],
      "text/plain": [
       "   Country Age        Salary     Purchased\n",
       "1  1        0.7199314  0.7110128 0        \n",
       "2  2       -1.6236751 -1.3643758 1        \n",
       "3  3       -1.2100975 -0.8455287 0        \n",
       "4  2       -0.1072238 -0.2402070 0        \n",
       "5  3        0.1684946  0.0000000 1        \n",
       "6  1       -0.5208015 -0.4996306 1        \n",
       "7  2        0.0000000 -1.0184777 0        \n",
       "8  1        1.2713683  1.3163344 1        \n",
       "9  3        1.5470867  1.6622325 0        \n",
       "10 1       -0.2450830  0.2786401 1        "
      ]
     },
     "metadata": {},
     "output_type": "display_data"
    }
   ],
   "source": [
    "df"
   ]
  },
  {
   "cell_type": "code",
   "execution_count": 10,
   "metadata": {},
   "outputs": [],
   "source": [
    "library(caTools) #import the library for test train split"
   ]
  },
  {
   "cell_type": "code",
   "execution_count": 11,
   "metadata": {},
   "outputs": [],
   "source": [
    "set.seed(123)\n",
    "split= sample.split(df$Purchased, SplitRatio = 0.8) #ratio is for training set"
   ]
  },
  {
   "cell_type": "code",
   "execution_count": 12,
   "metadata": {},
   "outputs": [],
   "source": [
    "training_set = subset(df, split==TRUE)\n",
    "test_set = subset(df, split == FALSE)"
   ]
  },
  {
   "cell_type": "code",
   "execution_count": 13,
   "metadata": {},
   "outputs": [
    {
     "data": {
      "text/html": [
       "<table>\n",
       "<thead><tr><th></th><th scope=col>Country</th><th scope=col>Age</th><th scope=col>Salary</th><th scope=col>Purchased</th></tr></thead>\n",
       "<tbody>\n",
       "\t<tr><th scope=row>1</th><td>1         </td><td> 0.7199314</td><td> 0.7110128</td><td>0         </td></tr>\n",
       "\t<tr><th scope=row>2</th><td>2         </td><td>-1.6236751</td><td>-1.3643758</td><td>1         </td></tr>\n",
       "\t<tr><th scope=row>3</th><td>3         </td><td>-1.2100975</td><td>-0.8455287</td><td>0         </td></tr>\n",
       "\t<tr><th scope=row>4</th><td>2         </td><td>-0.1072238</td><td>-0.2402070</td><td>0         </td></tr>\n",
       "\t<tr><th scope=row>5</th><td>3         </td><td> 0.1684946</td><td> 0.0000000</td><td>1         </td></tr>\n",
       "\t<tr><th scope=row>7</th><td>2         </td><td> 0.0000000</td><td>-1.0184777</td><td>0         </td></tr>\n",
       "\t<tr><th scope=row>8</th><td>1         </td><td> 1.2713683</td><td> 1.3163344</td><td>1         </td></tr>\n",
       "\t<tr><th scope=row>10</th><td>1         </td><td>-0.2450830</td><td> 0.2786401</td><td>1         </td></tr>\n",
       "</tbody>\n",
       "</table>\n"
      ],
      "text/latex": [
       "\\begin{tabular}{r|llll}\n",
       "  & Country & Age & Salary & Purchased\\\\\n",
       "\\hline\n",
       "\t1 & 1          &  0.7199314 &  0.7110128 & 0         \\\\\n",
       "\t2 & 2          & -1.6236751 & -1.3643758 & 1         \\\\\n",
       "\t3 & 3          & -1.2100975 & -0.8455287 & 0         \\\\\n",
       "\t4 & 2          & -0.1072238 & -0.2402070 & 0         \\\\\n",
       "\t5 & 3          &  0.1684946 &  0.0000000 & 1         \\\\\n",
       "\t7 & 2          &  0.0000000 & -1.0184777 & 0         \\\\\n",
       "\t8 & 1          &  1.2713683 &  1.3163344 & 1         \\\\\n",
       "\t10 & 1          & -0.2450830 &  0.2786401 & 1         \\\\\n",
       "\\end{tabular}\n"
      ],
      "text/markdown": [
       "\n",
       "| <!--/--> | Country | Age | Salary | Purchased | \n",
       "|---|---|---|---|---|---|---|---|\n",
       "| 1 | 1          |  0.7199314 |  0.7110128 | 0          | \n",
       "| 2 | 2          | -1.6236751 | -1.3643758 | 1          | \n",
       "| 3 | 3          | -1.2100975 | -0.8455287 | 0          | \n",
       "| 4 | 2          | -0.1072238 | -0.2402070 | 0          | \n",
       "| 5 | 3          |  0.1684946 |  0.0000000 | 1          | \n",
       "| 7 | 2          |  0.0000000 | -1.0184777 | 0          | \n",
       "| 8 | 1          |  1.2713683 |  1.3163344 | 1          | \n",
       "| 10 | 1          | -0.2450830 |  0.2786401 | 1          | \n",
       "\n",
       "\n"
      ],
      "text/plain": [
       "   Country Age        Salary     Purchased\n",
       "1  1        0.7199314  0.7110128 0        \n",
       "2  2       -1.6236751 -1.3643758 1        \n",
       "3  3       -1.2100975 -0.8455287 0        \n",
       "4  2       -0.1072238 -0.2402070 0        \n",
       "5  3        0.1684946  0.0000000 1        \n",
       "7  2        0.0000000 -1.0184777 0        \n",
       "8  1        1.2713683  1.3163344 1        \n",
       "10 1       -0.2450830  0.2786401 1        "
      ]
     },
     "metadata": {},
     "output_type": "display_data"
    }
   ],
   "source": [
    "training_set"
   ]
  },
  {
   "cell_type": "markdown",
   "metadata": {},
   "source": [
    "#### Coding this in R in damn easy and short!"
   ]
  },
  {
   "cell_type": "code",
   "execution_count": null,
   "metadata": {},
   "outputs": [],
   "source": []
  }
 ],
 "metadata": {
  "kernelspec": {
   "display_name": "R",
   "language": "R",
   "name": "ir"
  },
  "language_info": {
   "codemirror_mode": "r",
   "file_extension": ".r",
   "mimetype": "text/x-r-source",
   "name": "R",
   "pygments_lexer": "r",
   "version": "3.5.1"
  }
 },
 "nbformat": 4,
 "nbformat_minor": 2
}
