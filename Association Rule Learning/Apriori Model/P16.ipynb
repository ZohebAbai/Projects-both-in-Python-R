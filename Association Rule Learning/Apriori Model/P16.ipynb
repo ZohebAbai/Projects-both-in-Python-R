{
 "cells": [
  {
   "cell_type": "code",
   "execution_count": 1,
   "metadata": {},
   "outputs": [],
   "source": [
    "# Importing the libraries\n",
    "import numpy as np\n",
    "import matplotlib.pyplot as plt\n",
    "import pandas as pd"
   ]
  },
  {
   "cell_type": "code",
   "execution_count": 2,
   "metadata": {},
   "outputs": [],
   "source": [
    "# Data Preprocessing\n",
    "dataset = pd.read_csv('Market_Basket_Optimisation.csv', header = None)\n",
    "transactions = []\n",
    "for i in range(0, 7501):\n",
    "    transactions.append([str(dataset.values[i,j]) for j in range(0, 20)])"
   ]
  },
  {
   "cell_type": "code",
   "execution_count": 8,
   "metadata": {},
   "outputs": [],
   "source": [
    "# Training Apriori on the dataset\n",
    "from apyori import apriori\n",
    "rules = apriori(transactions, min_support = 0.004, min_confidence = 0.2, min_lift = 3, min_length = 2)"
   ]
  },
  {
   "cell_type": "code",
   "execution_count": 9,
   "metadata": {},
   "outputs": [],
   "source": [
    "# Visualising the results\n",
    "results = list(rules)"
   ]
  },
  {
   "cell_type": "code",
   "execution_count": 14,
   "metadata": {},
   "outputs": [
    {
     "data": {
      "text/html": [
       "<div>\n",
       "<style scoped>\n",
       "    .dataframe tbody tr th:only-of-type {\n",
       "        vertical-align: middle;\n",
       "    }\n",
       "\n",
       "    .dataframe tbody tr th {\n",
       "        vertical-align: top;\n",
       "    }\n",
       "\n",
       "    .dataframe thead th {\n",
       "        text-align: right;\n",
       "    }\n",
       "</style>\n",
       "<table border=\"1\" class=\"dataframe\">\n",
       "  <thead>\n",
       "    <tr style=\"text-align: right;\">\n",
       "      <th></th>\n",
       "      <th>items</th>\n",
       "      <th>support</th>\n",
       "      <th>ordered_statistics</th>\n",
       "    </tr>\n",
       "  </thead>\n",
       "  <tbody>\n",
       "    <tr>\n",
       "      <th>0</th>\n",
       "      <td>(light cream, chicken)</td>\n",
       "      <td>0.004533</td>\n",
       "      <td>[((light cream), (chicken), 0.2905982905982905...</td>\n",
       "    </tr>\n",
       "    <tr>\n",
       "      <th>1</th>\n",
       "      <td>(mushroom cream sauce, escalope)</td>\n",
       "      <td>0.005733</td>\n",
       "      <td>[((mushroom cream sauce), (escalope), 0.300699...</td>\n",
       "    </tr>\n",
       "    <tr>\n",
       "      <th>2</th>\n",
       "      <td>(escalope, pasta)</td>\n",
       "      <td>0.005866</td>\n",
       "      <td>[((pasta), (escalope), 0.3728813559322034, 4.7...</td>\n",
       "    </tr>\n",
       "    <tr>\n",
       "      <th>3</th>\n",
       "      <td>(herb &amp; pepper, ground beef)</td>\n",
       "      <td>0.015998</td>\n",
       "      <td>[((herb &amp; pepper), (ground beef), 0.3234501347...</td>\n",
       "    </tr>\n",
       "    <tr>\n",
       "      <th>4</th>\n",
       "      <td>(tomato sauce, ground beef)</td>\n",
       "      <td>0.005333</td>\n",
       "      <td>[((tomato sauce), (ground beef), 0.37735849056...</td>\n",
       "    </tr>\n",
       "    <tr>\n",
       "      <th>5</th>\n",
       "      <td>(whole wheat pasta, olive oil)</td>\n",
       "      <td>0.007999</td>\n",
       "      <td>[((whole wheat pasta), (olive oil), 0.27149321...</td>\n",
       "    </tr>\n",
       "    <tr>\n",
       "      <th>6</th>\n",
       "      <td>(shrimp, pasta)</td>\n",
       "      <td>0.005066</td>\n",
       "      <td>[((pasta), (shrimp), 0.3220338983050847, 4.506...</td>\n",
       "    </tr>\n",
       "    <tr>\n",
       "      <th>7</th>\n",
       "      <td>(light cream, nan, chicken)</td>\n",
       "      <td>0.004533</td>\n",
       "      <td>[((light cream, nan), (chicken), 0.29059829059...</td>\n",
       "    </tr>\n",
       "    <tr>\n",
       "      <th>8</th>\n",
       "      <td>(chocolate, frozen vegetables, shrimp)</td>\n",
       "      <td>0.005333</td>\n",
       "      <td>[((chocolate, frozen vegetables), (shrimp), 0....</td>\n",
       "    </tr>\n",
       "    <tr>\n",
       "      <th>9</th>\n",
       "      <td>(cooking oil, spaghetti, ground beef)</td>\n",
       "      <td>0.004799</td>\n",
       "      <td>[((cooking oil, ground beef), (spaghetti), 0.5...</td>\n",
       "    </tr>\n",
       "  </tbody>\n",
       "</table>\n",
       "</div>"
      ],
      "text/plain": [
       "                                    items   support  \\\n",
       "0                  (light cream, chicken)  0.004533   \n",
       "1        (mushroom cream sauce, escalope)  0.005733   \n",
       "2                       (escalope, pasta)  0.005866   \n",
       "3            (herb & pepper, ground beef)  0.015998   \n",
       "4             (tomato sauce, ground beef)  0.005333   \n",
       "5          (whole wheat pasta, olive oil)  0.007999   \n",
       "6                         (shrimp, pasta)  0.005066   \n",
       "7             (light cream, nan, chicken)  0.004533   \n",
       "8  (chocolate, frozen vegetables, shrimp)  0.005333   \n",
       "9   (cooking oil, spaghetti, ground beef)  0.004799   \n",
       "\n",
       "                                  ordered_statistics  \n",
       "0  [((light cream), (chicken), 0.2905982905982905...  \n",
       "1  [((mushroom cream sauce), (escalope), 0.300699...  \n",
       "2  [((pasta), (escalope), 0.3728813559322034, 4.7...  \n",
       "3  [((herb & pepper), (ground beef), 0.3234501347...  \n",
       "4  [((tomato sauce), (ground beef), 0.37735849056...  \n",
       "5  [((whole wheat pasta), (olive oil), 0.27149321...  \n",
       "6  [((pasta), (shrimp), 0.3220338983050847, 4.506...  \n",
       "7  [((light cream, nan), (chicken), 0.29059829059...  \n",
       "8  [((chocolate, frozen vegetables), (shrimp), 0....  \n",
       "9  [((cooking oil, ground beef), (spaghetti), 0.5...  "
      ]
     },
     "execution_count": 14,
     "metadata": {},
     "output_type": "execute_result"
    }
   ],
   "source": [
    "pd.DataFrame(results)[0:10]"
   ]
  },
  {
   "cell_type": "code",
   "execution_count": null,
   "metadata": {},
   "outputs": [],
   "source": []
  }
 ],
 "metadata": {
  "kernelspec": {
   "display_name": "Python 3",
   "language": "python",
   "name": "python3"
  },
  "language_info": {
   "codemirror_mode": {
    "name": "ipython",
    "version": 3
   },
   "file_extension": ".py",
   "mimetype": "text/x-python",
   "name": "python",
   "nbconvert_exporter": "python",
   "pygments_lexer": "ipython3",
   "version": "3.6.5"
  }
 },
 "nbformat": 4,
 "nbformat_minor": 2
}
