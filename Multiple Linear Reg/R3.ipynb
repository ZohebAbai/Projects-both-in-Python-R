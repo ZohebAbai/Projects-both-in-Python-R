{
 "cells": [
  {
   "cell_type": "code",
   "execution_count": 1,
   "metadata": {},
   "outputs": [
    {
     "data": {
      "text/html": [
       "<table>\n",
       "<thead><tr><th scope=col>R.D.Spend</th><th scope=col>Administration</th><th scope=col>Marketing.Spend</th><th scope=col>State</th><th scope=col>Profit</th></tr></thead>\n",
       "<tbody>\n",
       "\t<tr><td>165349.2  </td><td>136897.80 </td><td>471784.1  </td><td>New York  </td><td>192261.8  </td></tr>\n",
       "\t<tr><td>162597.7  </td><td>151377.59 </td><td>443898.5  </td><td>California</td><td>191792.1  </td></tr>\n",
       "\t<tr><td>153441.5  </td><td>101145.55 </td><td>407934.5  </td><td>Florida   </td><td>191050.4  </td></tr>\n",
       "\t<tr><td>144372.4  </td><td>118671.85 </td><td>383199.6  </td><td>New York  </td><td>182902.0  </td></tr>\n",
       "\t<tr><td>142107.3  </td><td> 91391.77 </td><td>366168.4  </td><td>Florida   </td><td>166187.9  </td></tr>\n",
       "\t<tr><td>131876.9  </td><td> 99814.71 </td><td>362861.4  </td><td>New York  </td><td>156991.1  </td></tr>\n",
       "</tbody>\n",
       "</table>\n"
      ],
      "text/latex": [
       "\\begin{tabular}{r|lllll}\n",
       " R.D.Spend & Administration & Marketing.Spend & State & Profit\\\\\n",
       "\\hline\n",
       "\t 165349.2   & 136897.80  & 471784.1   & New York   & 192261.8  \\\\\n",
       "\t 162597.7   & 151377.59  & 443898.5   & California & 191792.1  \\\\\n",
       "\t 153441.5   & 101145.55  & 407934.5   & Florida    & 191050.4  \\\\\n",
       "\t 144372.4   & 118671.85  & 383199.6   & New York   & 182902.0  \\\\\n",
       "\t 142107.3   &  91391.77  & 366168.4   & Florida    & 166187.9  \\\\\n",
       "\t 131876.9   &  99814.71  & 362861.4   & New York   & 156991.1  \\\\\n",
       "\\end{tabular}\n"
      ],
      "text/markdown": [
       "\n",
       "R.D.Spend | Administration | Marketing.Spend | State | Profit | \n",
       "|---|---|---|---|---|---|\n",
       "| 165349.2   | 136897.80  | 471784.1   | New York   | 192261.8   | \n",
       "| 162597.7   | 151377.59  | 443898.5   | California | 191792.1   | \n",
       "| 153441.5   | 101145.55  | 407934.5   | Florida    | 191050.4   | \n",
       "| 144372.4   | 118671.85  | 383199.6   | New York   | 182902.0   | \n",
       "| 142107.3   |  91391.77  | 366168.4   | Florida    | 166187.9   | \n",
       "| 131876.9   |  99814.71  | 362861.4   | New York   | 156991.1   | \n",
       "\n",
       "\n"
      ],
      "text/plain": [
       "  R.D.Spend Administration Marketing.Spend State      Profit  \n",
       "1 165349.2  136897.80      471784.1        New York   192261.8\n",
       "2 162597.7  151377.59      443898.5        California 191792.1\n",
       "3 153441.5  101145.55      407934.5        Florida    191050.4\n",
       "4 144372.4  118671.85      383199.6        New York   182902.0\n",
       "5 142107.3   91391.77      366168.4        Florida    166187.9\n",
       "6 131876.9   99814.71      362861.4        New York   156991.1"
      ]
     },
     "metadata": {},
     "output_type": "display_data"
    }
   ],
   "source": [
    "dataset = read.csv('50_Startups.csv')\n",
    "head(dataset)"
   ]
  },
  {
   "cell_type": "code",
   "execution_count": 2,
   "metadata": {},
   "outputs": [],
   "source": [
    "dataset$State = factor(dataset$State, \n",
    "                      levels = c('NewYork', 'California', 'Florida'),\n",
    "                      labels = c(1,2,3))"
   ]
  },
  {
   "cell_type": "code",
   "execution_count": 3,
   "metadata": {},
   "outputs": [],
   "source": [
    "library(caTools)\n",
    "set.seed(123)\n",
    "split = sample.split(dataset$Profit, SplitRatio =0.8)\n",
    "training_set = subset(dataset, split == TRUE)\n",
    "test_set = subset(dataset, split == FALSE)"
   ]
  },
  {
   "cell_type": "code",
   "execution_count": 4,
   "metadata": {},
   "outputs": [],
   "source": [
    "lreg = lm(formula = Profit~.,\n",
    "         data = training_set)"
   ]
  },
  {
   "cell_type": "code",
   "execution_count": 9,
   "metadata": {},
   "outputs": [
    {
     "data": {
      "text/plain": [
       "\n",
       "Call:\n",
       "lm(formula = Profit ~ ., data = training_set)\n",
       "\n",
       "Residuals:\n",
       "   Min     1Q Median     3Q    Max \n",
       "-29683  -3656   1916   4969  16362 \n",
       "\n",
       "Coefficients:\n",
       "                  Estimate Std. Error t value Pr(>|t|)    \n",
       "(Intercept)      4.428e+04  1.074e+04   4.124 0.000446 ***\n",
       "R.D.Spend        8.097e-01  6.350e-02  12.752 1.23e-11 ***\n",
       "Administration  -1.986e-02  7.826e-02  -0.254 0.802007    \n",
       "Marketing.Spend  5.340e-02  2.818e-02   1.895 0.071324 .  \n",
       "State3          -1.354e+03  4.247e+03  -0.319 0.752917    \n",
       "---\n",
       "Signif. codes:  0 '***' 0.001 '**' 0.01 '*' 0.05 '.' 0.1 ' ' 1\n",
       "\n",
       "Residual standard error: 9975 on 22 degrees of freedom\n",
       "  (13 observations deleted due to missingness)\n",
       "Multiple R-squared:  0.9518,\tAdjusted R-squared:  0.943 \n",
       "F-statistic: 108.6 on 4 and 22 DF,  p-value: 3.754e-14\n"
      ]
     },
     "metadata": {},
     "output_type": "display_data"
    }
   ],
   "source": [
    "summary(lreg)"
   ]
  },
  {
   "cell_type": "markdown",
   "metadata": {},
   "source": [
    "#### We don't need to go further for step by step backward elimination as we can see the statistically significant columns here. Still we will give it a try. "
   ]
  },
  {
   "cell_type": "code",
   "execution_count": 8,
   "metadata": {},
   "outputs": [],
   "source": [
    "y_pred = predict(lreg, newdata= test_set)"
   ]
  },
  {
   "cell_type": "markdown",
   "metadata": {},
   "source": [
    "## Building the optimal model using Backward Elimination"
   ]
  },
  {
   "cell_type": "code",
   "execution_count": 10,
   "metadata": {},
   "outputs": [
    {
     "data": {
      "text/plain": [
       "\n",
       "Call:\n",
       "lm(formula = Profit ~ R.D.Spend + Administration + Marketing.Spend + \n",
       "    State, data = dataset)\n",
       "\n",
       "Residuals:\n",
       "     Min       1Q   Median       3Q      Max \n",
       "-30763.3  -3115.3    318.1   5506.5  16407.6 \n",
       "\n",
       "Coefficients:\n",
       "                  Estimate Std. Error t value Pr(>|t|)    \n",
       "(Intercept)      4.655e+04  9.364e+03   4.971    3e-05 ***\n",
       "R.D.Spend        8.128e-01  5.361e-02  15.161    5e-15 ***\n",
       "Administration  -2.629e-02  6.786e-02  -0.387   0.7014    \n",
       "Marketing.Spend  4.372e-02  2.324e-02   1.881   0.0704 .  \n",
       "State3          -9.952e+02  3.437e+03  -0.290   0.7743    \n",
       "---\n",
       "Signif. codes:  0 '***' 0.001 '**' 0.01 '*' 0.05 '.' 0.1 ' ' 1\n",
       "\n",
       "Residual standard error: 9345 on 28 degrees of freedom\n",
       "  (17 observations deleted due to missingness)\n",
       "Multiple R-squared:  0.9534,\tAdjusted R-squared:  0.9467 \n",
       "F-statistic: 143.1 on 4 and 28 DF,  p-value: < 2.2e-16\n"
      ]
     },
     "metadata": {},
     "output_type": "display_data"
    }
   ],
   "source": [
    "regressor = lm(formula = Profit ~ R.D.Spend + Administration + Marketing.Spend + State,\n",
    "               data = dataset)\n",
    "summary(regressor)"
   ]
  },
  {
   "cell_type": "code",
   "execution_count": 11,
   "metadata": {},
   "outputs": [
    {
     "data": {
      "text/plain": [
       "\n",
       "Call:\n",
       "lm(formula = Profit ~ R.D.Spend + Administration + Marketing.Spend, \n",
       "    data = dataset)\n",
       "\n",
       "Residuals:\n",
       "   Min     1Q Median     3Q    Max \n",
       "-33534  -4795     63   6606  17275 \n",
       "\n",
       "Coefficients:\n",
       "                  Estimate Std. Error t value Pr(>|t|)    \n",
       "(Intercept)      5.012e+04  6.572e+03   7.626 1.06e-09 ***\n",
       "R.D.Spend        8.057e-01  4.515e-02  17.846  < 2e-16 ***\n",
       "Administration  -2.682e-02  5.103e-02  -0.526    0.602    \n",
       "Marketing.Spend  2.723e-02  1.645e-02   1.655    0.105    \n",
       "---\n",
       "Signif. codes:  0 '***' 0.001 '**' 0.01 '*' 0.05 '.' 0.1 ' ' 1\n",
       "\n",
       "Residual standard error: 9232 on 46 degrees of freedom\n",
       "Multiple R-squared:  0.9507,\tAdjusted R-squared:  0.9475 \n",
       "F-statistic:   296 on 3 and 46 DF,  p-value: < 2.2e-16\n"
      ]
     },
     "metadata": {},
     "output_type": "display_data"
    }
   ],
   "source": [
    "# Optional Step: Remove State3 only (as opposed to removing State directly)\n",
    "# regressor = lm(formula = Profit ~ R.D.Spend + Administration + Marketing.Spend + factor(State, exclude = 3),\n",
    "#                data = dataset)\n",
    "# summary(regressor)\n",
    "regressor = lm(formula = Profit ~ R.D.Spend + Administration + Marketing.Spend,\n",
    "               data = dataset)\n",
    "summary(regressor)"
   ]
  },
  {
   "cell_type": "code",
   "execution_count": 12,
   "metadata": {},
   "outputs": [
    {
     "data": {
      "text/plain": [
       "\n",
       "Call:\n",
       "lm(formula = Profit ~ R.D.Spend + Marketing.Spend, data = dataset)\n",
       "\n",
       "Residuals:\n",
       "   Min     1Q Median     3Q    Max \n",
       "-33645  -4632   -414   6484  17097 \n",
       "\n",
       "Coefficients:\n",
       "                 Estimate Std. Error t value Pr(>|t|)    \n",
       "(Intercept)     4.698e+04  2.690e+03  17.464   <2e-16 ***\n",
       "R.D.Spend       7.966e-01  4.135e-02  19.266   <2e-16 ***\n",
       "Marketing.Spend 2.991e-02  1.552e-02   1.927     0.06 .  \n",
       "---\n",
       "Signif. codes:  0 '***' 0.001 '**' 0.01 '*' 0.05 '.' 0.1 ' ' 1\n",
       "\n",
       "Residual standard error: 9161 on 47 degrees of freedom\n",
       "Multiple R-squared:  0.9505,\tAdjusted R-squared:  0.9483 \n",
       "F-statistic: 450.8 on 2 and 47 DF,  p-value: < 2.2e-16\n"
      ]
     },
     "metadata": {},
     "output_type": "display_data"
    }
   ],
   "source": [
    "regressor = lm(formula = Profit ~ R.D.Spend + Marketing.Spend,\n",
    "               data = dataset)\n",
    "summary(regressor)"
   ]
  },
  {
   "cell_type": "code",
   "execution_count": 13,
   "metadata": {},
   "outputs": [
    {
     "data": {
      "text/plain": [
       "\n",
       "Call:\n",
       "lm(formula = Profit ~ R.D.Spend, data = dataset)\n",
       "\n",
       "Residuals:\n",
       "   Min     1Q Median     3Q    Max \n",
       "-34351  -4626   -375   6249  17188 \n",
       "\n",
       "Coefficients:\n",
       "             Estimate Std. Error t value Pr(>|t|)    \n",
       "(Intercept) 4.903e+04  2.538e+03   19.32   <2e-16 ***\n",
       "R.D.Spend   8.543e-01  2.931e-02   29.15   <2e-16 ***\n",
       "---\n",
       "Signif. codes:  0 '***' 0.001 '**' 0.01 '*' 0.05 '.' 0.1 ' ' 1\n",
       "\n",
       "Residual standard error: 9416 on 48 degrees of freedom\n",
       "Multiple R-squared:  0.9465,\tAdjusted R-squared:  0.9454 \n",
       "F-statistic: 849.8 on 1 and 48 DF,  p-value: < 2.2e-16\n"
      ]
     },
     "metadata": {},
     "output_type": "display_data"
    }
   ],
   "source": [
    "regressor = lm(formula = Profit ~ R.D.Spend,\n",
    "               data = dataset)\n",
    "summary(regressor)"
   ]
  },
  {
   "cell_type": "markdown",
   "metadata": {},
   "source": [
    "## We can see that R is quite impressive compared to python with respect to their Data Science applicatons."
   ]
  },
  {
   "cell_type": "code",
   "execution_count": 15,
   "metadata": {},
   "outputs": [
    {
     "data": {
      "text/plain": [
       "\n",
       "Call:\n",
       "lm(formula = Profit ~ ., data = x)\n",
       "\n",
       "Residuals:\n",
       "   Min     1Q Median     3Q    Max \n",
       "-34334  -4894   -340   6752  17147 \n",
       "\n",
       "Coefficients:\n",
       "             Estimate Std. Error t value Pr(>|t|)    \n",
       "(Intercept) 4.902e+04  2.748e+03   17.84   <2e-16 ***\n",
       "R.D.Spend   8.563e-01  3.357e-02   25.51   <2e-16 ***\n",
       "---\n",
       "Signif. codes:  0 '***' 0.001 '**' 0.01 '*' 0.05 '.' 0.1 ' ' 1\n",
       "\n",
       "Residual standard error: 9836 on 38 degrees of freedom\n",
       "Multiple R-squared:  0.9448,\tAdjusted R-squared:  0.9434 \n",
       "F-statistic: 650.8 on 1 and 38 DF,  p-value: < 2.2e-16\n"
      ]
     },
     "metadata": {},
     "output_type": "display_data"
    }
   ],
   "source": [
    "# For automatic implementation of Backward Elimination\n",
    "backwardElimination <- function(x, sl) {\n",
    "    numVars = length(x)\n",
    "    for (i in c(1:numVars)){\n",
    "      regressor = lm(formula = Profit ~ ., data = x)\n",
    "      maxVar = max(coef(summary(regressor))[c(2:numVars), \"Pr(>|t|)\"])\n",
    "      if (maxVar > sl){\n",
    "        j = which(coef(summary(regressor))[c(2:numVars), \"Pr(>|t|)\"] == maxVar)\n",
    "        x = x[, -j]\n",
    "      }\n",
    "      numVars = numVars - 1\n",
    "    }\n",
    "    return(summary(regressor))\n",
    "  }\n",
    "  \n",
    "  SL = 0.05\n",
    "  dataset = dataset[, c(1,2,3,4,5)]\n",
    "  backwardElimination(training_set, SL)"
   ]
  },
  {
   "cell_type": "code",
   "execution_count": null,
   "metadata": {},
   "outputs": [],
   "source": []
  }
 ],
 "metadata": {
  "kernelspec": {
   "display_name": "R",
   "language": "R",
   "name": "ir"
  },
  "language_info": {
   "codemirror_mode": "r",
   "file_extension": ".r",
   "mimetype": "text/x-r-source",
   "name": "R",
   "pygments_lexer": "r",
   "version": "3.5.1"
  }
 },
 "nbformat": 4,
 "nbformat_minor": 2
}
